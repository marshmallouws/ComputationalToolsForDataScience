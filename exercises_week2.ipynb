{
  "nbformat": 4,
  "nbformat_minor": 2,
  "metadata": {
    "colab": {
      "name": "exercises_week2.ipynb",
      "provenance": [],
      "collapsed_sections": []
    },
    "kernelspec": {
      "name": "python3",
      "display_name": "Python 3.9.7 64-bit"
    },
    "language_info": {
      "codemirror_mode": {
        "name": "ipython",
        "version": 3
      },
      "file_extension": ".py",
      "mimetype": "text/x-python",
      "name": "python",
      "nbconvert_exporter": "python",
      "pygments_lexer": "ipython3",
      "version": "3.9.7"
    },
    "toc": {
      "base_numbering": 1,
      "nav_menu": {},
      "number_sections": true,
      "sideBar": true,
      "skip_h1_title": false,
      "title_cell": "Table of Contents",
      "title_sidebar": "Contents",
      "toc_cell": false,
      "toc_position": {},
      "toc_section_display": true,
      "toc_window_display": true
    },
    "interpreter": {
      "hash": "f55de7cfc8c493802b9f9879233bb1ea14435c94458bd89a0206f6fd6fbc5770"
    }
  },
  "cells": [
    {
      "cell_type": "markdown",
      "source": [
        "# 02807 - Week 2 Exercises\n"
      ],
      "metadata": {
        "id": "vlMcbNUbMqnF"
      }
    },
    {
      "cell_type": "markdown",
      "source": [
        "## Learning objectives:\n",
        "\n",
        "* Run Python code in Colab or Jupyter notebooks\n",
        "* Get hands-on experience storing, manipulating and extracting data efficiently with NumPy.\n",
        "* Perform optimised computations on arrays using NumPy’s vectorised functions. \n",
        "* Compare the performance of simple non-vectorised operations to vectorised one. \n"
      ],
      "metadata": {
        "id": "asspwlX7zDcT"
      }
    },
    {
      "cell_type": "markdown",
      "source": [
        "## Readings:\n",
        "\n",
        "### **Numpy**:\n",
        "\n",
        "Main reading:\n",
        "\n",
        "* [Chapter 2: Introduction to Numpy](https://jakevdp.github.io/PythonDataScienceHandbook/02.00-introduction-to-numpy.html). Python Data Science Handbook.\n",
        "\n",
        "Supplementary readings:\n",
        "\n",
        "* [A Visual Intro to NumPy and Data Representation](https://jalammar.github.io/visual-numpy/)\n",
        "* [Guide to NumPy resources: beginner, intermediate and advanced](https://e2eml.school/numpy_resources.html)\n",
        "\n"
      ],
      "metadata": {
        "id": "kR68hOwCMyib"
      }
    },
    {
      "cell_type": "markdown",
      "source": [
        "## Exercise 1: importing NumPy"
      ],
      "metadata": {
        "id": "eGU4JSS2_Eqt"
      }
    },
    {
      "cell_type": "markdown",
      "source": [
        "### **1. Import numpy as np and print the version number**\n"
      ],
      "metadata": {
        "id": "6J0G_P33MqnM"
      }
    },
    {
      "cell_type": "code",
      "execution_count": 25,
      "source": [
        "print(\"Solution\")\r\n",
        "import numpy as np"
      ],
      "outputs": [
        {
          "output_type": "stream",
          "name": "stdout",
          "text": [
            "Solution\n"
          ]
        }
      ],
      "metadata": {
        "ExecuteTime": {
          "end_time": "2021-08-24T11:24:51.910643Z",
          "start_time": "2021-08-24T11:24:51.907156Z"
        },
        "id": "hDe2CpdbN8NJ"
      }
    },
    {
      "cell_type": "markdown",
      "source": [
        "## Exercise 2: creating arrays"
      ],
      "metadata": {
        "id": "iBFzmeuMMqnL"
      }
    },
    {
      "cell_type": "markdown",
      "source": [
        "### a. Create a 1D array of numbers from 0 to 9\n",
        "\n",
        "Desired output: \n",
        "```\n",
        "Solution\n",
        "array([0, 1, 2, 3, 4, 5, 6, 7, 8, 9])\n",
        "```"
      ],
      "metadata": {
        "id": "j91-Dm6pMqnP"
      }
    },
    {
      "cell_type": "code",
      "execution_count": 1,
      "source": [
        "print(\"Solution\")\r\n",
        "arr = [i for i in range(10)]\r\n",
        "arr"
      ],
      "outputs": [
        {
          "output_type": "stream",
          "name": "stdout",
          "text": [
            "Solution\n"
          ]
        },
        {
          "output_type": "execute_result",
          "data": {
            "text/plain": [
              "[0, 1, 2, 3, 4, 5, 6, 7, 8, 9]"
            ]
          },
          "metadata": {},
          "execution_count": 1
        }
      ],
      "metadata": {
        "ExecuteTime": {
          "end_time": "2021-08-24T11:25:05.075212Z",
          "start_time": "2021-08-24T11:25:05.072383Z"
        },
        "id": "1G1W82myN8px"
      }
    },
    {
      "cell_type": "markdown",
      "source": [
        "### b. Create a 3×3 Boolean array of all `True`’s\n",
        "\n",
        "Desired output: \n",
        "\n",
        "```\n",
        "array([[ True,  True,  True],\n",
        "       [ True,  True,  True],\n",
        "       [ True,  True,  True]])\n",
        "```"
      ],
      "metadata": {
        "id": "IsLn7jBRMqnS"
      }
    },
    {
      "cell_type": "code",
      "execution_count": 22,
      "source": [
        "print(\"Solution\")\r\n",
        "# [expression for item in iterable if condition == True]\r\n",
        "arr1 = [[True for i in range(3)] for i in range(3)]\r\n",
        "arr1"
      ],
      "outputs": [
        {
          "output_type": "stream",
          "name": "stdout",
          "text": [
            "Solution\n"
          ]
        },
        {
          "output_type": "execute_result",
          "data": {
            "text/plain": [
              "[[True, True, True], [True, True, True], [True, True, True]]"
            ]
          },
          "metadata": {},
          "execution_count": 22
        }
      ],
      "metadata": {
        "ExecuteTime": {
          "end_time": "2021-08-24T11:25:05.777047Z",
          "start_time": "2021-08-24T11:25:05.774123Z"
        },
        "id": "U5LmrBkVN9OS"
      }
    },
    {
      "cell_type": "markdown",
      "source": [
        "### c. Create a 5 x 3 x 4 array randomly filled with integers between 0 and 4, inclusive:\n",
        "\n",
        "hint: ``np.random.randint``\n",
        "\n",
        "Example of desired output:\n",
        "\n",
        "```\n",
        "array([[[3, 4, 0, 4],\n",
        "        [2, 3, 4, 4],\n",
        "        [0, 2, 4, 2]],\n",
        "\n",
        "       [[2, 1, 3, 0],\n",
        "        [4, 3, 2, 2],\n",
        "        [2, 1, 2, 4]],\n",
        "\n",
        "       [[3, 1, 1, 1],\n",
        "        [4, 4, 0, 1],\n",
        "        [0, 2, 3, 0]],\n",
        "\n",
        "       [[3, 0, 3, 3],\n",
        "        [4, 0, 3, 3],\n",
        "        [3, 3, 0, 1]],\n",
        "\n",
        "       [[3, 2, 2, 2],\n",
        "        [0, 1, 1, 4],\n",
        "        [4, 2, 1, 0]]])\n",
        "\n",
        "```"
      ],
      "metadata": {
        "id": "bBRYaurHQCr_"
      }
    },
    {
      "cell_type": "code",
      "execution_count": 27,
      "source": [
        "print(\"Solution\")\r\n",
        "[[[np.random.randint(5) for i in range(4)] for j in range(3)] for k in range(5)]"
      ],
      "outputs": [
        {
          "output_type": "stream",
          "name": "stdout",
          "text": [
            "Solution\n"
          ]
        },
        {
          "output_type": "execute_result",
          "data": {
            "text/plain": [
              "[[[4, 3, 3, 3], [4, 1, 4, 4], [2, 3, 3, 2]],\n",
              " [[2, 2, 3, 2], [0, 2, 4, 4], [1, 3, 0, 2]],\n",
              " [[2, 4, 0, 1], [4, 0, 1, 0], [2, 3, 0, 3]],\n",
              " [[3, 3, 3, 1], [4, 4, 4, 1], [3, 0, 1, 3]],\n",
              " [[4, 2, 3, 0], [2, 1, 1, 0], [2, 3, 1, 4]]]"
            ]
          },
          "metadata": {},
          "execution_count": 27
        }
      ],
      "metadata": {
        "ExecuteTime": {
          "end_time": "2021-08-24T11:25:07.135334Z",
          "start_time": "2021-08-24T11:25:07.131869Z"
        },
        "id": "NhxjWetqRGA7"
      }
    },
    {
      "cell_type": "markdown",
      "source": [
        "## Exercise 3: universal functions and vectorisation (part 1). Faster dot product."
      ],
      "metadata": {
        "id": "1NqSPwusPkXm"
      }
    },
    {
      "cell_type": "markdown",
      "source": [
        "The dot product is an algebraic operation which takes two equal-sized vectors and returns a single scalar. For two vectors $\\mathbf{x}$ and $\\mathbf{y}$, their dot product is defined as:\n",
        "\n",
        "$$\\mathbf{x} \\cdot \\mathbf{y} = \\sum_{i=1}^{n}x_iy_i = x_1y_1 + x_2y_2 + … + x_ny_n$$\n",
        "\n",
        "Let's consider the following vectors."
      ],
      "metadata": {
        "id": "S74ns2pqcR5m"
      }
    },
    {
      "cell_type": "code",
      "execution_count": 15,
      "source": [
        "X = np.random.rand(100000)\r\n",
        "Y = np.random.rand(100000)"
      ],
      "outputs": [],
      "metadata": {
        "ExecuteTime": {
          "end_time": "2021-08-24T11:25:08.837868Z",
          "start_time": "2021-08-24T11:25:08.828921Z"
        },
        "id": "wSYQkN_5dmGN"
      }
    },
    {
      "cell_type": "markdown",
      "source": [
        "In Python, one way to calulate the dot product is to iterate over the number of elements in the vectors, multiplying their $i$-th elements, and accumulating the result:"
      ],
      "metadata": {
        "id": "lOg95GI1c-4j"
      }
    },
    {
      "cell_type": "code",
      "execution_count": 16,
      "source": [
        "def dot_slow_1(x,y):\r\n",
        "    \"\"\"\"Dot product by looping over elements and multiplying them\"\"\"\r\n",
        "    s = 0 \r\n",
        "    for i in range(x.size):\r\n",
        "        s += x[i] * y[i]\r\n",
        "    return s"
      ],
      "outputs": [],
      "metadata": {
        "ExecuteTime": {
          "end_time": "2021-08-24T11:25:10.473424Z",
          "start_time": "2021-08-24T11:25:10.469576Z"
        },
        "id": "XRFw_OUhc9td"
      }
    },
    {
      "cell_type": "markdown",
      "source": [
        "A more succinct and pythonic way to do this would be to use list comprehension:"
      ],
      "metadata": {
        "id": "BlJhCbEAeL4F"
      }
    },
    {
      "cell_type": "code",
      "execution_count": 17,
      "source": [
        "def dot_slow_2(x, y):\r\n",
        "    \"\"\"Dot product as sum of list comprehension doing element-wise multiplication\"\"\"\r\n",
        "    return sum(x_i * y_i for x_i, y_i in zip(x, y))"
      ],
      "outputs": [],
      "metadata": {
        "ExecuteTime": {
          "end_time": "2021-08-24T11:25:11.616061Z",
          "start_time": "2021-08-24T11:25:11.612850Z"
        },
        "id": "2y8021OCeV4B"
      }
    },
    {
      "cell_type": "markdown",
      "source": [
        "Let's look at the performance we get computing dot products in this way."
      ],
      "metadata": {
        "id": "kZWDHlQ0eoER"
      }
    },
    {
      "cell_type": "code",
      "execution_count": 18,
      "source": [
        "print(\"Time and memory use of dot_slow_1:\")\r\n",
        "%timeit dot_slow_1(X, Y)\r\n",
        "\r\n",
        "print(\"Time and memory use of dot_slow_2:\")\r\n",
        "%timeit dot_slow_2(X, Y)"
      ],
      "outputs": [
        {
          "output_type": "stream",
          "name": "stdout",
          "text": [
            "Time and memory use of dot_slow_1:\n",
            "22.3 ms ± 615 µs per loop (mean ± std. dev. of 7 runs, 10 loops each)\n",
            "Time and memory use of dot_slow_2:\n",
            "16.5 ms ± 341 µs per loop (mean ± std. dev. of 7 runs, 100 loops each)\n"
          ]
        }
      ],
      "metadata": {
        "ExecuteTime": {
          "end_time": "2021-08-24T11:25:33.720110Z",
          "start_time": "2021-08-24T11:25:12.694785Z"
        },
        "id": "w-44zBdxe0o8"
      }
    },
    {
      "cell_type": "markdown",
      "source": [
        "### Use NumPy's vectorised operations to define a function that computes the dot product."
      ],
      "metadata": {
        "id": "cTWBbszTgQSo"
      }
    },
    {
      "cell_type": "code",
      "execution_count": 19,
      "source": [
        "def my_dot(x, y):\r\n",
        "  # your solution goes here\r\n",
        "  raise NotImplementedError"
      ],
      "outputs": [],
      "metadata": {
        "ExecuteTime": {
          "end_time": "2021-08-24T11:26:14.431111Z",
          "start_time": "2021-08-24T11:26:14.428474Z"
        },
        "id": "uBV7WCWSkv9p"
      }
    },
    {
      "cell_type": "markdown",
      "source": [
        "Use `%timeit` to check the performance of your function. How much faster did we get with vectorisation? If you did things right, your solution should run in *µs*, running around 1000x faster per loop than the non-vectorised `dot_slow` functions."
      ],
      "metadata": {
        "id": "ZgvRT9D-g7O-"
      }
    },
    {
      "cell_type": "code",
      "execution_count": 20,
      "source": [
        "print(\"Time and memory use of my_dot:\")\r\n",
        "%timeit my_dot(X, Y)"
      ],
      "outputs": [
        {
          "output_type": "stream",
          "name": "stdout",
          "text": [
            "Time and memory use of my_dot:\n"
          ]
        },
        {
          "output_type": "error",
          "ename": "NotImplementedError",
          "evalue": "",
          "traceback": [
            "\u001b[1;31m---------------------------------------------------------------------------\u001b[0m",
            "\u001b[1;31mNotImplementedError\u001b[0m                       Traceback (most recent call last)",
            "\u001b[1;32m~\\AppData\\Local\\Temp/ipykernel_9040/2802016446.py\u001b[0m in \u001b[0;36m<module>\u001b[1;34m\u001b[0m\n\u001b[0;32m      1\u001b[0m \u001b[0mprint\u001b[0m\u001b[1;33m(\u001b[0m\u001b[1;34m\"Time and memory use of my_dot:\"\u001b[0m\u001b[1;33m)\u001b[0m\u001b[1;33m\u001b[0m\u001b[1;33m\u001b[0m\u001b[0m\n\u001b[1;32m----> 2\u001b[1;33m \u001b[0mget_ipython\u001b[0m\u001b[1;33m(\u001b[0m\u001b[1;33m)\u001b[0m\u001b[1;33m.\u001b[0m\u001b[0mrun_line_magic\u001b[0m\u001b[1;33m(\u001b[0m\u001b[1;34m'timeit'\u001b[0m\u001b[1;33m,\u001b[0m \u001b[1;34m'my_dot(X, Y)'\u001b[0m\u001b[1;33m)\u001b[0m\u001b[1;33m\u001b[0m\u001b[1;33m\u001b[0m\u001b[0m\n\u001b[0m",
            "\u001b[1;32m~\\AppData\\Local\\Programs\\Python\\Python39\\lib\\site-packages\\IPython\\core\\interactiveshell.py\u001b[0m in \u001b[0;36mrun_line_magic\u001b[1;34m(self, magic_name, line, _stack_depth)\u001b[0m\n\u001b[0;32m   2346\u001b[0m                 \u001b[0mkwargs\u001b[0m\u001b[1;33m[\u001b[0m\u001b[1;34m'local_ns'\u001b[0m\u001b[1;33m]\u001b[0m \u001b[1;33m=\u001b[0m \u001b[0mself\u001b[0m\u001b[1;33m.\u001b[0m\u001b[0mget_local_scope\u001b[0m\u001b[1;33m(\u001b[0m\u001b[0mstack_depth\u001b[0m\u001b[1;33m)\u001b[0m\u001b[1;33m\u001b[0m\u001b[1;33m\u001b[0m\u001b[0m\n\u001b[0;32m   2347\u001b[0m             \u001b[1;32mwith\u001b[0m \u001b[0mself\u001b[0m\u001b[1;33m.\u001b[0m\u001b[0mbuiltin_trap\u001b[0m\u001b[1;33m:\u001b[0m\u001b[1;33m\u001b[0m\u001b[1;33m\u001b[0m\u001b[0m\n\u001b[1;32m-> 2348\u001b[1;33m                 \u001b[0mresult\u001b[0m \u001b[1;33m=\u001b[0m \u001b[0mfn\u001b[0m\u001b[1;33m(\u001b[0m\u001b[1;33m*\u001b[0m\u001b[0margs\u001b[0m\u001b[1;33m,\u001b[0m \u001b[1;33m**\u001b[0m\u001b[0mkwargs\u001b[0m\u001b[1;33m)\u001b[0m\u001b[1;33m\u001b[0m\u001b[1;33m\u001b[0m\u001b[0m\n\u001b[0m\u001b[0;32m   2349\u001b[0m             \u001b[1;32mreturn\u001b[0m \u001b[0mresult\u001b[0m\u001b[1;33m\u001b[0m\u001b[1;33m\u001b[0m\u001b[0m\n\u001b[0;32m   2350\u001b[0m \u001b[1;33m\u001b[0m\u001b[0m\n",
            "\u001b[1;32m~\\AppData\\Local\\Programs\\Python\\Python39\\lib\\site-packages\\decorator.py\u001b[0m in \u001b[0;36mfun\u001b[1;34m(*args, **kw)\u001b[0m\n\u001b[0;32m    230\u001b[0m             \u001b[1;32mif\u001b[0m \u001b[1;32mnot\u001b[0m \u001b[0mkwsyntax\u001b[0m\u001b[1;33m:\u001b[0m\u001b[1;33m\u001b[0m\u001b[1;33m\u001b[0m\u001b[0m\n\u001b[0;32m    231\u001b[0m                 \u001b[0margs\u001b[0m\u001b[1;33m,\u001b[0m \u001b[0mkw\u001b[0m \u001b[1;33m=\u001b[0m \u001b[0mfix\u001b[0m\u001b[1;33m(\u001b[0m\u001b[0margs\u001b[0m\u001b[1;33m,\u001b[0m \u001b[0mkw\u001b[0m\u001b[1;33m,\u001b[0m \u001b[0msig\u001b[0m\u001b[1;33m)\u001b[0m\u001b[1;33m\u001b[0m\u001b[1;33m\u001b[0m\u001b[0m\n\u001b[1;32m--> 232\u001b[1;33m             \u001b[1;32mreturn\u001b[0m \u001b[0mcaller\u001b[0m\u001b[1;33m(\u001b[0m\u001b[0mfunc\u001b[0m\u001b[1;33m,\u001b[0m \u001b[1;33m*\u001b[0m\u001b[1;33m(\u001b[0m\u001b[0mextras\u001b[0m \u001b[1;33m+\u001b[0m \u001b[0margs\u001b[0m\u001b[1;33m)\u001b[0m\u001b[1;33m,\u001b[0m \u001b[1;33m**\u001b[0m\u001b[0mkw\u001b[0m\u001b[1;33m)\u001b[0m\u001b[1;33m\u001b[0m\u001b[1;33m\u001b[0m\u001b[0m\n\u001b[0m\u001b[0;32m    233\u001b[0m     \u001b[0mfun\u001b[0m\u001b[1;33m.\u001b[0m\u001b[0m__name__\u001b[0m \u001b[1;33m=\u001b[0m \u001b[0mfunc\u001b[0m\u001b[1;33m.\u001b[0m\u001b[0m__name__\u001b[0m\u001b[1;33m\u001b[0m\u001b[1;33m\u001b[0m\u001b[0m\n\u001b[0;32m    234\u001b[0m     \u001b[0mfun\u001b[0m\u001b[1;33m.\u001b[0m\u001b[0m__doc__\u001b[0m \u001b[1;33m=\u001b[0m \u001b[0mfunc\u001b[0m\u001b[1;33m.\u001b[0m\u001b[0m__doc__\u001b[0m\u001b[1;33m\u001b[0m\u001b[1;33m\u001b[0m\u001b[0m\n",
            "\u001b[1;32m~\\AppData\\Local\\Programs\\Python\\Python39\\lib\\site-packages\\IPython\\core\\magic.py\u001b[0m in \u001b[0;36m<lambda>\u001b[1;34m(f, *a, **k)\u001b[0m\n\u001b[0;32m    185\u001b[0m     \u001b[1;31m# but it's overkill for just that one bit of state.\u001b[0m\u001b[1;33m\u001b[0m\u001b[1;33m\u001b[0m\u001b[0m\n\u001b[0;32m    186\u001b[0m     \u001b[1;32mdef\u001b[0m \u001b[0mmagic_deco\u001b[0m\u001b[1;33m(\u001b[0m\u001b[0marg\u001b[0m\u001b[1;33m)\u001b[0m\u001b[1;33m:\u001b[0m\u001b[1;33m\u001b[0m\u001b[1;33m\u001b[0m\u001b[0m\n\u001b[1;32m--> 187\u001b[1;33m         \u001b[0mcall\u001b[0m \u001b[1;33m=\u001b[0m \u001b[1;32mlambda\u001b[0m \u001b[0mf\u001b[0m\u001b[1;33m,\u001b[0m \u001b[1;33m*\u001b[0m\u001b[0ma\u001b[0m\u001b[1;33m,\u001b[0m \u001b[1;33m**\u001b[0m\u001b[0mk\u001b[0m\u001b[1;33m:\u001b[0m \u001b[0mf\u001b[0m\u001b[1;33m(\u001b[0m\u001b[1;33m*\u001b[0m\u001b[0ma\u001b[0m\u001b[1;33m,\u001b[0m \u001b[1;33m**\u001b[0m\u001b[0mk\u001b[0m\u001b[1;33m)\u001b[0m\u001b[1;33m\u001b[0m\u001b[1;33m\u001b[0m\u001b[0m\n\u001b[0m\u001b[0;32m    188\u001b[0m \u001b[1;33m\u001b[0m\u001b[0m\n\u001b[0;32m    189\u001b[0m         \u001b[1;32mif\u001b[0m \u001b[0mcallable\u001b[0m\u001b[1;33m(\u001b[0m\u001b[0marg\u001b[0m\u001b[1;33m)\u001b[0m\u001b[1;33m:\u001b[0m\u001b[1;33m\u001b[0m\u001b[1;33m\u001b[0m\u001b[0m\n",
            "\u001b[1;32m~\\AppData\\Local\\Programs\\Python\\Python39\\lib\\site-packages\\IPython\\core\\magics\\execution.py\u001b[0m in \u001b[0;36mtimeit\u001b[1;34m(self, line, cell, local_ns)\u001b[0m\n\u001b[0;32m   1167\u001b[0m             \u001b[1;32mfor\u001b[0m \u001b[0mindex\u001b[0m \u001b[1;32min\u001b[0m \u001b[0mrange\u001b[0m\u001b[1;33m(\u001b[0m\u001b[1;36m0\u001b[0m\u001b[1;33m,\u001b[0m \u001b[1;36m10\u001b[0m\u001b[1;33m)\u001b[0m\u001b[1;33m:\u001b[0m\u001b[1;33m\u001b[0m\u001b[1;33m\u001b[0m\u001b[0m\n\u001b[0;32m   1168\u001b[0m                 \u001b[0mnumber\u001b[0m \u001b[1;33m=\u001b[0m \u001b[1;36m10\u001b[0m \u001b[1;33m**\u001b[0m \u001b[0mindex\u001b[0m\u001b[1;33m\u001b[0m\u001b[1;33m\u001b[0m\u001b[0m\n\u001b[1;32m-> 1169\u001b[1;33m                 \u001b[0mtime_number\u001b[0m \u001b[1;33m=\u001b[0m \u001b[0mtimer\u001b[0m\u001b[1;33m.\u001b[0m\u001b[0mtimeit\u001b[0m\u001b[1;33m(\u001b[0m\u001b[0mnumber\u001b[0m\u001b[1;33m)\u001b[0m\u001b[1;33m\u001b[0m\u001b[1;33m\u001b[0m\u001b[0m\n\u001b[0m\u001b[0;32m   1170\u001b[0m                 \u001b[1;32mif\u001b[0m \u001b[0mtime_number\u001b[0m \u001b[1;33m>=\u001b[0m \u001b[1;36m0.2\u001b[0m\u001b[1;33m:\u001b[0m\u001b[1;33m\u001b[0m\u001b[1;33m\u001b[0m\u001b[0m\n\u001b[0;32m   1171\u001b[0m                     \u001b[1;32mbreak\u001b[0m\u001b[1;33m\u001b[0m\u001b[1;33m\u001b[0m\u001b[0m\n",
            "\u001b[1;32m~\\AppData\\Local\\Programs\\Python\\Python39\\lib\\site-packages\\IPython\\core\\magics\\execution.py\u001b[0m in \u001b[0;36mtimeit\u001b[1;34m(self, number)\u001b[0m\n\u001b[0;32m    167\u001b[0m         \u001b[0mgc\u001b[0m\u001b[1;33m.\u001b[0m\u001b[0mdisable\u001b[0m\u001b[1;33m(\u001b[0m\u001b[1;33m)\u001b[0m\u001b[1;33m\u001b[0m\u001b[1;33m\u001b[0m\u001b[0m\n\u001b[0;32m    168\u001b[0m         \u001b[1;32mtry\u001b[0m\u001b[1;33m:\u001b[0m\u001b[1;33m\u001b[0m\u001b[1;33m\u001b[0m\u001b[0m\n\u001b[1;32m--> 169\u001b[1;33m             \u001b[0mtiming\u001b[0m \u001b[1;33m=\u001b[0m \u001b[0mself\u001b[0m\u001b[1;33m.\u001b[0m\u001b[0minner\u001b[0m\u001b[1;33m(\u001b[0m\u001b[0mit\u001b[0m\u001b[1;33m,\u001b[0m \u001b[0mself\u001b[0m\u001b[1;33m.\u001b[0m\u001b[0mtimer\u001b[0m\u001b[1;33m)\u001b[0m\u001b[1;33m\u001b[0m\u001b[1;33m\u001b[0m\u001b[0m\n\u001b[0m\u001b[0;32m    170\u001b[0m         \u001b[1;32mfinally\u001b[0m\u001b[1;33m:\u001b[0m\u001b[1;33m\u001b[0m\u001b[1;33m\u001b[0m\u001b[0m\n\u001b[0;32m    171\u001b[0m             \u001b[1;32mif\u001b[0m \u001b[0mgcold\u001b[0m\u001b[1;33m:\u001b[0m\u001b[1;33m\u001b[0m\u001b[1;33m\u001b[0m\u001b[0m\n",
            "\u001b[1;32m<magic-timeit>\u001b[0m in \u001b[0;36minner\u001b[1;34m(_it, _timer)\u001b[0m\n",
            "\u001b[1;32m~\\AppData\\Local\\Temp/ipykernel_9040/1676085449.py\u001b[0m in \u001b[0;36mmy_dot\u001b[1;34m(x, y)\u001b[0m\n\u001b[0;32m      1\u001b[0m \u001b[1;32mdef\u001b[0m \u001b[0mmy_dot\u001b[0m\u001b[1;33m(\u001b[0m\u001b[0mx\u001b[0m\u001b[1;33m,\u001b[0m \u001b[0my\u001b[0m\u001b[1;33m)\u001b[0m\u001b[1;33m:\u001b[0m\u001b[1;33m\u001b[0m\u001b[1;33m\u001b[0m\u001b[0m\n\u001b[0;32m      2\u001b[0m   \u001b[1;31m# your solution goes here\u001b[0m\u001b[1;33m\u001b[0m\u001b[1;33m\u001b[0m\u001b[0m\n\u001b[1;32m----> 3\u001b[1;33m   \u001b[1;32mraise\u001b[0m \u001b[0mNotImplementedError\u001b[0m\u001b[1;33m\u001b[0m\u001b[1;33m\u001b[0m\u001b[0m\n\u001b[0m",
            "\u001b[1;31mNotImplementedError\u001b[0m: "
          ]
        }
      ],
      "metadata": {
        "ExecuteTime": {
          "end_time": "2021-08-24T11:26:00.579297Z",
          "start_time": "2021-08-24T11:25:56.670347Z"
        },
        "id": "DW8F7wXlhDks"
      }
    },
    {
      "cell_type": "markdown",
      "source": [
        "## Exercise 4: universal functions and vectorisation (part 2). Buying low, selling high."
      ],
      "metadata": {
        "id": "dl5qy_6_D7C7"
      }
    },
    {
      "cell_type": "markdown",
      "source": [
        "Let's look at a more interesting problem. Here's a classic technical interview problem:\n",
        "\n",
        "> Given a stock’s price history as a sequence, and assuming that you are only allowed to make one purchase and one sale, what is the maximum profit that can be obtained? For example, given prices = (20, 18, 14, 17, 20, 21, 15), the max profit would be 7, from buying at 14 and selling at 21.\n",
        "\n"
      ],
      "metadata": {
        "id": "ky6Ry2xaD_7c"
      }
    },
    {
      "cell_type": "markdown",
      "source": [
        "The straighforward solution, with $O(n^2)$ [time complexity](https://www.hackerearth.com/practice/basic-programming/complexity-analysis/time-and-space-complexity/tutorial/), consists of taking every combination of two consecutive prices and determining the maximum difference.\n",
        "\n",
        "However, there's also an $O(n)$ solution that consists of iterating through the sequence just once and finding the difference between each price and a running minimum. Here's an non-vectorised implementation:\n"
      ],
      "metadata": {
        "id": "PUL_QFBYEZaL"
      }
    },
    {
      "cell_type": "code",
      "execution_count": null,
      "source": [
        "def profit(prices):\r\n",
        "    max_price = 0\r\n",
        "    min_price = prices[0]\r\n",
        "    for price in prices[1:]:\r\n",
        "        min_price = min(min_price, price)\r\n",
        "        max_price = max(price - min_price, max_price)\r\n",
        "    return max_price\r\n",
        "\r\n",
        "prices = (20, 18, 14, 17, 20, 21, 15)\r\n",
        "profit(prices)"
      ],
      "outputs": [],
      "metadata": {
        "ExecuteTime": {
          "end_time": "2021-08-24T11:26:23.916166Z",
          "start_time": "2021-08-24T11:26:23.910095Z"
        },
        "id": "I2VvDQXcFFm6"
      }
    },
    {
      "cell_type": "markdown",
      "source": [
        "Can this be done faster in NumPy? Certainly. But first, let’s create a more realistic example (using, of course, some trusty NumPy functions!):"
      ],
      "metadata": {
        "id": "_F33tzMjKodD"
      }
    },
    {
      "cell_type": "code",
      "execution_count": null,
      "source": [
        "import numpy as np\r\n",
        "# Set seed for randn below\r\n",
        "np.random.seed(2)\r\n",
        "\r\n",
        "# Create mostly NaN array with a few 'turning points' (local min/max).\r\n",
        "prices = np.full(100, fill_value=np.nan)\r\n",
        "prices[[0, 10, 50, 80, -1]] = [80., 30., 50., 70., 40.]\r\n",
        "\r\n",
        "# Linearly interpolate the missing values and add some noise.\r\n",
        "x = np.arange(len(prices))\r\n",
        "is_valid = ~np.isnan(prices)\r\n",
        "prices = np.interp(x=x, xp=x[is_valid], fp=prices[is_valid])\r\n",
        "prices += np.random.randn(len(prices)) * 2"
      ],
      "outputs": [],
      "metadata": {
        "ExecuteTime": {
          "end_time": "2021-08-24T11:26:24.683457Z",
          "start_time": "2021-08-24T11:26:24.677317Z"
        },
        "id": "UCCJp1BcK8te"
      }
    },
    {
      "cell_type": "markdown",
      "source": [
        "Let's look at the data with `matplotlib`. Don't worry if you don't get what goes on here. We'll learn how to use `matplotlib` for data visualisation in the coming weeks.\n",
        "\n",
        "The idea is to buy low (green) and sell high (red):"
      ],
      "metadata": {
        "id": "fZa147G9LYuo"
      }
    },
    {
      "cell_type": "code",
      "execution_count": null,
      "source": [
        "import matplotlib.pyplot as plt\r\n",
        "%matplotlib inline\r\n",
        "plt.style.use('classic')\r\n",
        "\r\n",
        "# Warning! This isn't a fully correct solution, but it works for now.\r\n",
        "# If the absolute min came after the absolute max, you'd have trouble.\r\n",
        "mn = np.argmin(prices)\r\n",
        "mx = mn + np.argmax(prices[mn:])\r\n",
        "kwargs = {'markersize': 8, 'linestyle': ''}\r\n",
        "\r\n",
        "fig, ax = plt.subplots()\r\n",
        "ax.plot(prices)\r\n",
        "ax.set_title('Price History')\r\n",
        "ax.set_xlabel('Time')\r\n",
        "ax.set_ylabel('Price')\r\n",
        "ax.plot(mn, prices[mn], marker='o', color='g', **kwargs)\r\n",
        "ax.plot(mx, prices[mx], marker='o', color='r', **kwargs)\r\n",
        "plt.show()"
      ],
      "outputs": [],
      "metadata": {
        "ExecuteTime": {
          "end_time": "2021-08-24T11:26:26.146737Z",
          "start_time": "2021-08-24T11:26:25.908439Z"
        },
        "id": "44Yr3lwrLyO4"
      }
    },
    {
      "cell_type": "markdown",
      "source": [
        "What does a NumPy implementation look like? There is no `np.runmin()` that computes the running (or cumulative) minimum. However, NumPy’s universal functions (`ufunc`'s) all have an `accumulate()` method that does what its name implies:\n",
        "\n"
      ],
      "metadata": {
        "id": "OiHo8XSmN6Vq"
      }
    },
    {
      "cell_type": "code",
      "execution_count": null,
      "source": [
        "x = np.array([10,2,4,7,9,1,11,3])\r\n",
        "runmin = np.minimum.accumulate\r\n",
        "runmin(x)"
      ],
      "outputs": [],
      "metadata": {
        "ExecuteTime": {
          "end_time": "2021-08-24T11:26:30.159176Z",
          "start_time": "2021-08-24T11:26:30.154010Z"
        },
        "id": "RlkpelVvN52x"
      }
    },
    {
      "cell_type": "markdown",
      "source": [
        "Use `runmin` and other NumPy functions to define your own version of the `profit` function. Keeping the logic from the pure-Python example, you can find the difference between each price and a running minimum (element-wise), and then take the max of this sequence:"
      ],
      "metadata": {
        "id": "pldx1-_dO0o5"
      }
    },
    {
      "cell_type": "code",
      "execution_count": null,
      "source": [
        "def my_profit(prices):\r\n",
        "     \"\"\"Price minus cumulative minimum price, element-wise.\"\"\"\r\n",
        "     # your solution goes here\r\n",
        "     raise NotImplementedError"
      ],
      "outputs": [],
      "metadata": {
        "ExecuteTime": {
          "end_time": "2021-08-24T11:28:07.596870Z",
          "start_time": "2021-08-24T11:28:07.593892Z"
        },
        "id": "I7XT66pHPVoX"
      }
    },
    {
      "cell_type": "markdown",
      "source": [
        "Let's see the time performance of the original `profit` function on our dataset."
      ],
      "metadata": {
        "id": "_INGV7hhPjR-"
      }
    },
    {
      "cell_type": "code",
      "execution_count": null,
      "source": [
        "print(\"The maximum profit is\", profit(prices))\r\n",
        "%timeit profit(prices)"
      ],
      "outputs": [],
      "metadata": {
        "ExecuteTime": {
          "end_time": "2021-08-24T11:28:10.700519Z",
          "start_time": "2021-08-24T11:28:08.941646Z"
        },
        "id": "3_O06vi6Pi8o"
      }
    },
    {
      "cell_type": "markdown",
      "source": [
        "How does `my_profit` compare? Your NumPy solution should do at least as well as the pure-Python solution over this small dataset (we're working with 100 data points). "
      ],
      "metadata": {
        "id": "E4sxZBf8Q8_M"
      }
    },
    {
      "cell_type": "code",
      "execution_count": null,
      "source": [
        "print(\"The maximum profit is\", my_profit(prices))\r\n",
        "%timeit my_profit(prices)"
      ],
      "outputs": [],
      "metadata": {
        "ExecuteTime": {
          "end_time": "2021-08-24T11:28:12.424653Z",
          "start_time": "2021-08-24T11:28:10.701490Z"
        },
        "id": "eN0pJf-fRHAv"
      }
    },
    {
      "cell_type": "markdown",
      "source": [
        "\n",
        "\n",
        "Over a large dataset, you'll normally see significant performance differences. Our implementation of `my_profit` typically runs about 50x faster than `profit` over a random dataset with 1.000.000 datapoints. Do you get comparable results?"
      ],
      "metadata": {
        "id": "nWt829s7UynP"
      }
    },
    {
      "cell_type": "code",
      "execution_count": null,
      "source": [
        "rand_seq = np.random.randint(0, 100, size=1000000)\r\n",
        "%timeit profit(rand_seq)\r\n",
        "%timeit my_profit(rand_seq)"
      ],
      "outputs": [],
      "metadata": {
        "ExecuteTime": {
          "end_time": "2021-08-24T11:28:20.241357Z",
          "start_time": "2021-08-24T11:28:15.007711Z"
        },
        "id": "E22QwoY_T75p"
      }
    },
    {
      "cell_type": "markdown",
      "source": [
        "## Exercise 5: extracting information from arrays"
      ],
      "metadata": {
        "id": "DoQANtj0zb-K"
      }
    },
    {
      "cell_type": "markdown",
      "source": [
        "Let's extract some potentially useful information from our `prices` dataset.\n"
      ],
      "metadata": {
        "id": "ICjxUjGPbWGY"
      }
    },
    {
      "cell_type": "markdown",
      "source": [
        "### a. Let's find all values in a given range. Extract all prices with values between 45 and 65 from the first 10 prices in `prices`.\n"
      ],
      "metadata": {
        "id": "KzmBoMA6MqnV"
      }
    },
    {
      "cell_type": "code",
      "execution_count": null,
      "source": [
        "print(\"First 10 prices\")\r\n",
        "prices_small = prices[:10]\r\n",
        "prices_small"
      ],
      "outputs": [],
      "metadata": {
        "id": "WNRXvalvMqnW"
      }
    },
    {
      "cell_type": "code",
      "execution_count": null,
      "source": [
        "print(\"Solution\")\r\n",
        "# your solution goes here"
      ],
      "outputs": [],
      "metadata": {
        "id": "9zunr4MgXNeN"
      }
    },
    {
      "cell_type": "markdown",
      "source": [
        "### b. Let's say that you want to buy in the first time the price drops below 30. Let's find the first occurence of a value meeting a condition. \n",
        "\n",
        "Hint: use `np.argwhere`."
      ],
      "metadata": {
        "id": "zXoWSEVHMqnZ"
      }
    },
    {
      "cell_type": "code",
      "execution_count": null,
      "source": [
        "# Solution\r\n",
        "print(\"Solution\")\r\n",
        "# your solution goes here"
      ],
      "outputs": [],
      "metadata": {
        "id": "TvvC6AXHco4w"
      }
    },
    {
      "cell_type": "markdown",
      "source": [
        "### c. Let's get the *positions* and *values* of the top 5 prices overall. Use NumPy only to extract this information.\n",
        "\n",
        "Hint: Use `np.argwhere` along with `np.percentile`, or sort and slice arrays"
      ],
      "metadata": {
        "id": "LZ4E40E5eDuo"
      }
    },
    {
      "cell_type": "code",
      "execution_count": null,
      "source": [
        "# Solution\r\n",
        "print(\"Positions of the top 5 prices\")  \r\n",
        "# your solution goes here\r\n",
        "print(\"Values of the top 5 prices\")\r\n",
        "# your solution goes here"
      ],
      "outputs": [],
      "metadata": {
        "id": "uQrGQdS5ezMb"
      }
    },
    {
      "cell_type": "markdown",
      "source": [
        "### d. Let's get some summary statistics. Print the mean, median and standard deviation of the list of prices.\n",
        "\n",
        "The desired output is:\n",
        "\n",
        "```\n",
        "Mean, median and standard deviation: 50.770589574397285 50.45810666998631 12.125291517615116\n",
        "```"
      ],
      "metadata": {
        "id": "-4SR8lt-gNzV"
      }
    },
    {
      "cell_type": "code",
      "execution_count": null,
      "source": [
        "# Solution\r\n",
        "# your solution goes here."
      ],
      "outputs": [],
      "metadata": {
        "id": "02D7NUS1gqKe"
      }
    },
    {
      "cell_type": "markdown",
      "source": [
        "### e. Finally, let's find all the local maxima in the `prices` array. \n",
        "\n",
        "If you are up for the challenge, you can try to use NumPy functions only. Consider first how to achieve a boolean mask reflecting which `prices` are greater than the previous occurences. Then greater than the proceeding occurences. Using these two masks, it is possible to obtain the indices \n",
        "\n",
        "Otherwise, the package `scipy.signal` offers a nice function called `find_peaks`."
      ],
      "metadata": {
        "id": "ZaaJ9NL4MqqC"
      }
    },
    {
      "cell_type": "code",
      "execution_count": null,
      "source": [
        "# Solution\r\n",
        "print(\"Local maxima\")\r\n",
        "# your solution goes here"
      ],
      "outputs": [],
      "metadata": {
        "id": "c3QgjgrihvXB"
      }
    },
    {
      "cell_type": "markdown",
      "source": [
        "Here are the maxima found with `scipy`."
      ],
      "metadata": {
        "id": "byvmRmyqkvnj"
      }
    },
    {
      "cell_type": "code",
      "execution_count": null,
      "source": [
        "from scipy.signal import find_peaks\r\n",
        "\r\n",
        "peaks, _ = find_peaks(prices, height=0)"
      ],
      "outputs": [],
      "metadata": {
        "id": "4GwaVTACkzoV"
      }
    },
    {
      "cell_type": "markdown",
      "source": [
        "If you store the local maxima in a variable called `peaks`, the following plot will mark them in green."
      ],
      "metadata": {
        "id": "hD2-stM7iPLv"
      }
    },
    {
      "cell_type": "code",
      "execution_count": null,
      "source": [
        "kwargs = {'markersize': 8, 'linestyle': ''}\r\n",
        "\r\n",
        "fig, ax = plt.subplots()\r\n",
        "ax.plot(prices)\r\n",
        "ax.set_title('Price History')\r\n",
        "ax.set_xlabel('Time')\r\n",
        "ax.set_ylabel('Price')\r\n",
        "ax.plot(peaks, prices[peaks], marker='o', color='g', **kwargs)\r\n",
        "plt.show()"
      ],
      "outputs": [],
      "metadata": {
        "id": "2WJOpihHiEsK"
      }
    }
  ]
}