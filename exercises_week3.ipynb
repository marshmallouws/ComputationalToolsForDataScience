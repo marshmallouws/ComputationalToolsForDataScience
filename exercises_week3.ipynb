{
  "nbformat": 4,
  "nbformat_minor": 2,
  "metadata": {
    "anaconda-cloud": {},
    "colab": {
      "name": "exercises_week3.ipynb",
      "provenance": [],
      "collapsed_sections": []
    },
    "kernelspec": {
      "name": "python3",
      "display_name": "Python 3.9.7 64-bit"
    },
    "language_info": {
      "codemirror_mode": {
        "name": "ipython",
        "version": 3
      },
      "file_extension": ".py",
      "mimetype": "text/x-python",
      "name": "python",
      "nbconvert_exporter": "python",
      "pygments_lexer": "ipython3",
      "version": "3.9.7"
    },
    "toc": {
      "base_numbering": 1,
      "nav_menu": {},
      "number_sections": true,
      "sideBar": true,
      "skip_h1_title": false,
      "title_cell": "Table of Contents",
      "title_sidebar": "Contents",
      "toc_cell": false,
      "toc_position": {},
      "toc_section_display": true,
      "toc_window_display": false
    },
    "interpreter": {
      "hash": "f55de7cfc8c493802b9f9879233bb1ea14435c94458bd89a0206f6fd6fbc5770"
    }
  },
  "cells": [
    {
      "cell_type": "markdown",
      "source": [
        "# 02807 - Week 3 Exercises\n"
      ],
      "metadata": {
        "id": "vlMcbNUbMqnF"
      }
    },
    {
      "cell_type": "markdown",
      "source": [
        "## Learning objectives:\n",
        "\n",
        "* Get hands-on experience performing exploratory data analysis with Pandas\n"
      ],
      "metadata": {
        "id": "asspwlX7zDcT"
      }
    },
    {
      "cell_type": "markdown",
      "source": [
        "## Readings:\n",
        "\n",
        "Main reading:\n",
        "\n",
        "* [Chapter 3: Data Manipulation with Pandas](https://jakevdp.github.io/PythonDataScienceHandbook/03.00-introduction-to-pandas.html). Python Data Science Handbook.\n",
        "\n",
        "Recommended readings and tutorials:\n",
        "\n",
        "* [Kaggle Pandas tutorials](https://www.kaggle.com/learn/pandas). Great hands-on, step-by-step introduction.\n",
        "* [Python for Data Analysis Book](https://wesmckinney.com/pages/book.html). Excellent in-depth presentation of Pandas, by the creator of Pandas. Chapters 5 and onwards.\n"
      ],
      "metadata": {
        "id": "HDIUCLvOKvfh"
      }
    },
    {
      "cell_type": "markdown",
      "source": [
        "## Exercises:\n",
        "\n",
        "* This week, you'll work on an assignment from the Open Machine Learning Course. \n",
        "\n",
        "* It comes with solutions and will score your work (check the info below).\n",
        "\n",
        "* Of course, you should try to find your own solution before looking at the given one. Otherwise, you won't learn much.\n",
        "\n",
        "* Enjoy and good luck!\n",
        "\n",
        "\n",
        "\n",
        "---\n",
        "\n",
        "\n"
      ],
      "metadata": {
        "id": "4W08nlFrKvfi"
      }
    },
    {
      "cell_type": "markdown",
      "source": [
        "<center>\n",
        "<img src=\"https://habrastorage.org/files/fd4/502/43d/fd450243dd604b81b9713213a247aa20.jpg\">\n",
        "    \n",
        "## [mlcourse.ai](mlcourse.ai) – Open Machine Learning Course \n",
        "\n",
        "<center>Author: [Yury Kashnitskiy](http://yorko.github.io) <br>\n",
        "Translated and edited by [Sergey Isaev](https://www.linkedin.com/in/isvforall/), [Artem Trunov](https://www.linkedin.com/in/datamove/), [Anastasia Manokhina](https://www.linkedin.com/in/anastasiamanokhina/), and [Yuanyuan Pao](https://www.linkedin.com/in/yuanyuanpao/) <br>All content is distributed under the [Creative Commons CC BY-NC-SA 4.0](https://creativecommons.org/licenses/by-nc-sa/4.0/) license."
      ],
      "metadata": {
        "_uuid": "570fb89bb4f7838b1d0fdff70b2935790e5dbdbe",
        "id": "r2hJmh96Ibys"
      }
    },
    {
      "cell_type": "markdown",
      "source": [
        "\n",
        "# <center>  Exploratory data analysis with Pandas\n"
      ],
      "metadata": {
        "_uuid": "998fc5f76227ab1df9460a7b05c508304b14b3a6",
        "id": "P9OS1kW4Ibyt"
      }
    },
    {
      "cell_type": "markdown",
      "source": [
        "**In this task you should use Pandas to answer a few questions about the [Adult](https://archive.ics.uci.edu/ml/datasets/Adult) dataset.** \n",
        "\n",
        "Choose the answers in the [web-form](https://docs.google.com/forms/d/1uY7MpI2trKx6FLWZte0uVh3ULV4Cm_tDud0VDFGCOKg). \n",
        "\n",
        "This is a demo version of an assignment, so by submitting the form, you'll see a link to the solution .ipynb file."
      ],
      "metadata": {
        "_uuid": "89ef93231815456f4e0bc5dcc00b094aee800993",
        "id": "xQVIFzZ8Ibyu"
      }
    },
    {
      "cell_type": "markdown",
      "source": [
        "Unique values of all features (for more information, please see the links above):\n",
        "- `age`: continuous.\n",
        "- `workclass`: Private, Self-emp-not-inc, Self-emp-inc, Federal-gov, Local-gov, State-gov, Without-pay, Never-worked.\n",
        "- `fnlwgt`: continuous.\n",
        "- `education`: Bachelors, Some-college, 11th, HS-grad, Prof-school, Assoc-acdm, Assoc-voc, 9th, 7th-8th, 12th, Masters, 1st-4th, 10th, Doctorate, 5th-6th, Preschool.\n",
        "- `education-num`: continuous.\n",
        "- `marital-status`: Married-civ-spouse, Divorced, Never-married, Separated, Widowed, Married-spouse-absent, Married-AF-spouse.\n",
        "- `occupation`: Tech-support, Craft-repair, Other-service, Sales, Exec-managerial, Prof-specialty, Handlers-cleaners, Machine-op-inspct, Adm-clerical, Farming-fishing, Transport-moving, Priv-house-serv, Protective-serv, Armed-Forces.\n",
        "- `relationship`: Wife, Own-child, Husband, Not-in-family, Other-relative, Unmarried.\n",
        "- `race`: White, Asian-Pac-Islander, Amer-Indian-Eskimo, Other, Black.\n",
        "- `sex`: Female, Male.\n",
        "- `capital-gain`: continuous.\n",
        "- `capital-loss`: continuous.\n",
        "- `hours-per-week`: continuous.\n",
        "- `native-country`: United-States, Cambodia, England, Puerto-Rico, Canada, Germany, Outlying-US(Guam-USVI-etc), India, Japan, Greece, South, China, Cuba, Iran, Honduras, Philippines, Italy, Poland, Jamaica, Vietnam, Mexico, Portugal, Ireland, France, Dominican-Republic, Laos, Ecuador, Taiwan, Haiti, Columbia, Hungary, Guatemala, Nicaragua, Scotland, Thailand, Yugoslavia, El-Salvador, Trinadad&Tobago, Peru, Hong, Holand-Netherlands.   \n",
        "- `salary`: >50K,<=50K"
      ],
      "metadata": {
        "_uuid": "c322301ac858c748f8f80e63cf6f734fc70dde30",
        "id": "38-ojaAxIbyv"
      }
    },
    {
      "cell_type": "code",
      "execution_count": 2,
      "source": [
        "import pandas as pd"
      ],
      "outputs": [],
      "metadata": {
        "ExecuteTime": {
          "end_time": "2021-08-24T17:03:55.601313Z",
          "start_time": "2021-08-24T17:03:55.322078Z"
        },
        "_uuid": "d3eb2411e23b7db11e4cbbb498a42752442a6f4c",
        "id": "YzlO8DhOIbyw"
      }
    },
    {
      "cell_type": "code",
      "execution_count": 3,
      "source": [
        "url = 'https://raw.githubusercontent.com/Yorko/mlcourse.ai/master/data/adult.data.csv'\r\n",
        "data = pd.read_csv(url)\r\n",
        "data.head()"
      ],
      "outputs": [
        {
          "output_type": "execute_result",
          "data": {
            "text/html": [
              "<div>\n",
              "<style scoped>\n",
              "    .dataframe tbody tr th:only-of-type {\n",
              "        vertical-align: middle;\n",
              "    }\n",
              "\n",
              "    .dataframe tbody tr th {\n",
              "        vertical-align: top;\n",
              "    }\n",
              "\n",
              "    .dataframe thead th {\n",
              "        text-align: right;\n",
              "    }\n",
              "</style>\n",
              "<table border=\"1\" class=\"dataframe\">\n",
              "  <thead>\n",
              "    <tr style=\"text-align: right;\">\n",
              "      <th></th>\n",
              "      <th>age</th>\n",
              "      <th>workclass</th>\n",
              "      <th>fnlwgt</th>\n",
              "      <th>education</th>\n",
              "      <th>education-num</th>\n",
              "      <th>marital-status</th>\n",
              "      <th>occupation</th>\n",
              "      <th>relationship</th>\n",
              "      <th>race</th>\n",
              "      <th>sex</th>\n",
              "      <th>capital-gain</th>\n",
              "      <th>capital-loss</th>\n",
              "      <th>hours-per-week</th>\n",
              "      <th>native-country</th>\n",
              "      <th>salary</th>\n",
              "    </tr>\n",
              "  </thead>\n",
              "  <tbody>\n",
              "    <tr>\n",
              "      <th>0</th>\n",
              "      <td>39</td>\n",
              "      <td>State-gov</td>\n",
              "      <td>77516</td>\n",
              "      <td>Bachelors</td>\n",
              "      <td>13</td>\n",
              "      <td>Never-married</td>\n",
              "      <td>Adm-clerical</td>\n",
              "      <td>Not-in-family</td>\n",
              "      <td>White</td>\n",
              "      <td>Male</td>\n",
              "      <td>2174</td>\n",
              "      <td>0</td>\n",
              "      <td>40</td>\n",
              "      <td>United-States</td>\n",
              "      <td>&lt;=50K</td>\n",
              "    </tr>\n",
              "    <tr>\n",
              "      <th>1</th>\n",
              "      <td>50</td>\n",
              "      <td>Self-emp-not-inc</td>\n",
              "      <td>83311</td>\n",
              "      <td>Bachelors</td>\n",
              "      <td>13</td>\n",
              "      <td>Married-civ-spouse</td>\n",
              "      <td>Exec-managerial</td>\n",
              "      <td>Husband</td>\n",
              "      <td>White</td>\n",
              "      <td>Male</td>\n",
              "      <td>0</td>\n",
              "      <td>0</td>\n",
              "      <td>13</td>\n",
              "      <td>United-States</td>\n",
              "      <td>&lt;=50K</td>\n",
              "    </tr>\n",
              "    <tr>\n",
              "      <th>2</th>\n",
              "      <td>38</td>\n",
              "      <td>Private</td>\n",
              "      <td>215646</td>\n",
              "      <td>HS-grad</td>\n",
              "      <td>9</td>\n",
              "      <td>Divorced</td>\n",
              "      <td>Handlers-cleaners</td>\n",
              "      <td>Not-in-family</td>\n",
              "      <td>White</td>\n",
              "      <td>Male</td>\n",
              "      <td>0</td>\n",
              "      <td>0</td>\n",
              "      <td>40</td>\n",
              "      <td>United-States</td>\n",
              "      <td>&lt;=50K</td>\n",
              "    </tr>\n",
              "    <tr>\n",
              "      <th>3</th>\n",
              "      <td>53</td>\n",
              "      <td>Private</td>\n",
              "      <td>234721</td>\n",
              "      <td>11th</td>\n",
              "      <td>7</td>\n",
              "      <td>Married-civ-spouse</td>\n",
              "      <td>Handlers-cleaners</td>\n",
              "      <td>Husband</td>\n",
              "      <td>Black</td>\n",
              "      <td>Male</td>\n",
              "      <td>0</td>\n",
              "      <td>0</td>\n",
              "      <td>40</td>\n",
              "      <td>United-States</td>\n",
              "      <td>&lt;=50K</td>\n",
              "    </tr>\n",
              "    <tr>\n",
              "      <th>4</th>\n",
              "      <td>28</td>\n",
              "      <td>Private</td>\n",
              "      <td>338409</td>\n",
              "      <td>Bachelors</td>\n",
              "      <td>13</td>\n",
              "      <td>Married-civ-spouse</td>\n",
              "      <td>Prof-specialty</td>\n",
              "      <td>Wife</td>\n",
              "      <td>Black</td>\n",
              "      <td>Female</td>\n",
              "      <td>0</td>\n",
              "      <td>0</td>\n",
              "      <td>40</td>\n",
              "      <td>Cuba</td>\n",
              "      <td>&lt;=50K</td>\n",
              "    </tr>\n",
              "  </tbody>\n",
              "</table>\n",
              "</div>"
            ],
            "text/plain": [
              "   age         workclass  fnlwgt  education  education-num  \\\n",
              "0   39         State-gov   77516  Bachelors             13   \n",
              "1   50  Self-emp-not-inc   83311  Bachelors             13   \n",
              "2   38           Private  215646    HS-grad              9   \n",
              "3   53           Private  234721       11th              7   \n",
              "4   28           Private  338409  Bachelors             13   \n",
              "\n",
              "       marital-status         occupation   relationship   race     sex  \\\n",
              "0       Never-married       Adm-clerical  Not-in-family  White    Male   \n",
              "1  Married-civ-spouse    Exec-managerial        Husband  White    Male   \n",
              "2            Divorced  Handlers-cleaners  Not-in-family  White    Male   \n",
              "3  Married-civ-spouse  Handlers-cleaners        Husband  Black    Male   \n",
              "4  Married-civ-spouse     Prof-specialty           Wife  Black  Female   \n",
              "\n",
              "   capital-gain  capital-loss  hours-per-week native-country salary  \n",
              "0          2174             0              40  United-States  <=50K  \n",
              "1             0             0              13  United-States  <=50K  \n",
              "2             0             0              40  United-States  <=50K  \n",
              "3             0             0              40  United-States  <=50K  \n",
              "4             0             0              40           Cuba  <=50K  "
            ]
          },
          "metadata": {},
          "execution_count": 3
        }
      ],
      "metadata": {
        "ExecuteTime": {
          "end_time": "2021-08-24T17:03:57.112580Z",
          "start_time": "2021-08-24T17:03:56.190878Z"
        },
        "_uuid": "c5119d1b8151029b4ff57735c4279b795ae492a2",
        "id": "45rbCeq7Iby2"
      }
    },
    {
      "cell_type": "markdown",
      "source": [
        "**1. How many men and women (*sex* feature) are represented in this dataset?** "
      ],
      "metadata": {
        "_uuid": "6b19853f936853d40971b56f4d298ab55ee78cac",
        "id": "x3xmEcBQIby5"
      }
    },
    {
      "cell_type": "code",
      "execution_count": 20,
      "source": [
        "# You code here\r\n",
        "data[\"sex\"].value_counts()"
      ],
      "outputs": [
        {
          "output_type": "execute_result",
          "data": {
            "text/plain": [
              "Male      21790\n",
              "Female    10771\n",
              "Name: sex, dtype: int64"
            ]
          },
          "metadata": {},
          "execution_count": 20
        }
      ],
      "metadata": {
        "_uuid": "d32cafcbe966dbdfa40c3017d16d6f8c96bfb3e2",
        "id": "1nvsg84KIby6"
      }
    },
    {
      "cell_type": "markdown",
      "source": [
        "**2. What is the average age (*age* feature) of women?**"
      ],
      "metadata": {
        "_uuid": "4748793234a5d325ea60d13331ecf93e29774523",
        "id": "i3LvKSfEIby8"
      }
    },
    {
      "cell_type": "code",
      "execution_count": 23,
      "source": [
        "b = data.groupby(\"sex\")[\"age\"].mean()\r\n",
        "c = data[data[\"sex\"] == \"Female\"][\"age\"].mean()\r\n",
        "\r\n",
        "print(b)\r\n",
        "print(c)"
      ],
      "outputs": [
        {
          "output_type": "stream",
          "name": "stdout",
          "text": [
            "sex\n",
            "Female    36.858230\n",
            "Male      39.433547\n",
            "Name: age, dtype: float64\n",
            "36.85823043357163\n"
          ]
        }
      ],
      "metadata": {
        "_uuid": "64f60d928855107d8980875656dcdf3587d91646",
        "id": "NcuY_rwkIby9"
      }
    },
    {
      "cell_type": "markdown",
      "source": [
        "**3. What is the percentage of German citizens (*native-country* feature)?**"
      ],
      "metadata": {
        "_uuid": "80e87c421c348067e88769c64e554206c51727d1",
        "id": "u3fTYtXsIby_"
      }
    },
    {
      "cell_type": "code",
      "execution_count": 28,
      "source": [
        "data[\"native-country\"].value_counts()"
      ],
      "outputs": [
        {
          "output_type": "execute_result",
          "data": {
            "text/plain": [
              "United-States                 29170\n",
              "Mexico                          643\n",
              "?                               583\n",
              "Philippines                     198\n",
              "Germany                         137\n",
              "Canada                          121\n",
              "Puerto-Rico                     114\n",
              "El-Salvador                     106\n",
              "India                           100\n",
              "Cuba                             95\n",
              "England                          90\n",
              "Jamaica                          81\n",
              "South                            80\n",
              "China                            75\n",
              "Italy                            73\n",
              "Dominican-Republic               70\n",
              "Vietnam                          67\n",
              "Guatemala                        64\n",
              "Japan                            62\n",
              "Poland                           60\n",
              "Columbia                         59\n",
              "Taiwan                           51\n",
              "Haiti                            44\n",
              "Iran                             43\n",
              "Portugal                         37\n",
              "Nicaragua                        34\n",
              "Peru                             31\n",
              "France                           29\n",
              "Greece                           29\n",
              "Ecuador                          28\n",
              "Ireland                          24\n",
              "Hong                             20\n",
              "Cambodia                         19\n",
              "Trinadad&Tobago                  19\n",
              "Laos                             18\n",
              "Thailand                         18\n",
              "Yugoslavia                       16\n",
              "Outlying-US(Guam-USVI-etc)       14\n",
              "Honduras                         13\n",
              "Hungary                          13\n",
              "Scotland                         12\n",
              "Holand-Netherlands                1\n",
              "Name: native-country, dtype: int64"
            ]
          },
          "metadata": {},
          "execution_count": 28
        }
      ],
      "metadata": {
        "_uuid": "ca9807509692638bd945671ed7d8b4a5ad1f3626",
        "id": "AZ5nsUYHIby_"
      }
    },
    {
      "cell_type": "markdown",
      "source": [
        "**4-5. What are the mean and standard deviation of age for those who earn more than 50K per year (*salary* feature) and those who earn less than 50K per year?**"
      ],
      "metadata": {
        "_uuid": "be9911cf525df4fca2c1d14b8720bc8a82f462e7",
        "id": "f-j0CdnIIbzC"
      }
    },
    {
      "cell_type": "code",
      "execution_count": null,
      "source": [
        "# You code here"
      ],
      "outputs": [],
      "metadata": {
        "_uuid": "97948f0115f949913d211627151b5605bcd204fd",
        "id": "o0ZFfFj2IbzC"
      }
    },
    {
      "cell_type": "markdown",
      "source": [
        "**6. Is it true that people who earn more than 50K have at least high school education? (*education = HS-grad, Some-College, Bachelors, Prof-school, Assoc-acdm, Assoc-voc, Masters or *Doctorate*)**"
      ],
      "metadata": {
        "_uuid": "180c3fe6f8b250b877c1d86866067b80acabdb64",
        "id": "M0KiaC9hIbzE"
      }
    },
    {
      "cell_type": "code",
      "execution_count": null,
      "source": [
        "# You code here"
      ],
      "outputs": [],
      "metadata": {
        "_uuid": "58f38ebfa2b0e1418a6a1a680d0743697f9876a2",
        "id": "k-GQi-dzIbzE"
      }
    },
    {
      "cell_type": "markdown",
      "source": [
        "**7. Display age statistics for each race (*race* feature) and each gender (*sex* feature). Use *groupby()* and *describe()*. Find the maximum age of men of *Amer-Indian-Eskimo* race.**"
      ],
      "metadata": {
        "_uuid": "87d6bc9ec1c230e66416ce94533ea250368009cc",
        "id": "6IFdMoE_IbzG"
      }
    },
    {
      "cell_type": "code",
      "execution_count": null,
      "source": [
        "# You code here"
      ],
      "outputs": [],
      "metadata": {
        "_uuid": "a4567b72200b583f7f2ee1583405d636c12169db",
        "id": "MeUwap76IbzG"
      }
    },
    {
      "cell_type": "markdown",
      "source": [
        "**8. Among whom is the proportion of those who earn a lot (>50K) greater: married or single men (*marital-status* feature)? Consider as married those who have a *marital-status* starting with *Married* (Married-civ-spouse, Married-spouse-absent or Married-AF-spouse), the rest are considered bachelors.**"
      ],
      "metadata": {
        "_uuid": "19411d604b0d4337a4a048a2f0e898541f39ab76",
        "id": "f7nR5ja-IbzI"
      }
    },
    {
      "cell_type": "code",
      "execution_count": null,
      "source": [
        "# You code here"
      ],
      "outputs": [],
      "metadata": {
        "_uuid": "5bb3a8524fcbd794707075ccf6aaf8dd0f30a3dd",
        "id": "xnlJO14AIbzI"
      }
    },
    {
      "cell_type": "markdown",
      "source": [
        "**9. What is the maximum number of hours a person works per week (*hours-per-week* feature)? How many people work such a number of hours, and what is the percentage of those who earn a lot (>50K) among them?**"
      ],
      "metadata": {
        "_uuid": "34f2076e7d331b95a23b990372809b709d2c8183",
        "id": "nNE6o5fRIbzK"
      }
    },
    {
      "cell_type": "code",
      "execution_count": null,
      "source": [
        "# You code here"
      ],
      "outputs": [],
      "metadata": {
        "_uuid": "3571468172fc4bcf34e10b3d6ab358d4e41f7ef4",
        "id": "-UJlyCduIbzL"
      }
    },
    {
      "cell_type": "markdown",
      "source": [
        "**10. Count the average time of work (*hours-per-week*) for those who earn a little and a lot (*salary*) for each country (*native-country*). What will these be for Japan?**"
      ],
      "metadata": {
        "_uuid": "d539d4d137fac1c5ea25bc516188eb657d67e9b4",
        "id": "kNLkyikhIbzM"
      }
    },
    {
      "cell_type": "code",
      "execution_count": null,
      "source": [
        "# You code here"
      ],
      "outputs": [],
      "metadata": {
        "_uuid": "75a93411f1e3b519afcc27c026aaa0c67eb526e9",
        "id": "CpsqguxlIbzN"
      }
    }
  ]
}