{
  "nbformat": 4,
  "nbformat_minor": 0,
  "metadata": {
    "anaconda-cloud": {},
    "colab": {
      "name": "exercises_week3.ipynb",
      "provenance": [],
      "collapsed_sections": []
    },
    "kernelspec": {
      "display_name": "Python 3",
      "language": "python",
      "name": "python3"
    },
    "language_info": {
      "codemirror_mode": {
        "name": "ipython",
        "version": 3
      },
      "file_extension": ".py",
      "mimetype": "text/x-python",
      "name": "python",
      "nbconvert_exporter": "python",
      "pygments_lexer": "ipython3",
      "version": "3.8.10"
    },
    "toc": {
      "base_numbering": 1,
      "nav_menu": {},
      "number_sections": true,
      "sideBar": true,
      "skip_h1_title": false,
      "title_cell": "Table of Contents",
      "title_sidebar": "Contents",
      "toc_cell": false,
      "toc_position": {},
      "toc_section_display": true,
      "toc_window_display": false
    }
  },
  "cells": [
    {
      "cell_type": "markdown",
      "metadata": {
        "id": "vlMcbNUbMqnF"
      },
      "source": [
        "# 02807 - Week 3 Exercises\n"
      ]
    },
    {
      "cell_type": "markdown",
      "metadata": {
        "id": "asspwlX7zDcT"
      },
      "source": [
        "## Learning objectives:\n",
        "\n",
        "* Get hands-on experience performing exploratory data analysis with Pandas\n"
      ]
    },
    {
      "cell_type": "markdown",
      "metadata": {
        "id": "HDIUCLvOKvfh"
      },
      "source": [
        "## Readings:\n",
        "\n",
        "Main reading:\n",
        "\n",
        "* [Chapter 3: Data Manipulation with Pandas](https://jakevdp.github.io/PythonDataScienceHandbook/03.00-introduction-to-pandas.html). Python Data Science Handbook.\n",
        "\n",
        "Recommended readings and tutorials:\n",
        "\n",
        "* [Kaggle Pandas tutorials](https://www.kaggle.com/learn/pandas). Great hands-on, step-by-step introduction.\n",
        "* [Python for Data Analysis Book](https://wesmckinney.com/pages/book.html). Excellent in-depth presentation of Pandas, by the creator of Pandas. Chapters 5 and onwards.\n"
      ]
    },
    {
      "cell_type": "markdown",
      "metadata": {
        "id": "4W08nlFrKvfi"
      },
      "source": [
        "## Exercises:\n",
        "\n",
        "* This week, you'll work on an assignment from the Open Machine Learning Course. \n",
        "\n",
        "* It comes with solutions and will score your work (check the info below).\n",
        "\n",
        "* Of course, you should try to find your own solution before looking at the given one. Otherwise, you won't learn much.\n",
        "\n",
        "* Enjoy and good luck!\n",
        "\n",
        "\n",
        "\n",
        "---\n",
        "\n",
        "\n"
      ]
    },
    {
      "cell_type": "markdown",
      "metadata": {
        "_uuid": "570fb89bb4f7838b1d0fdff70b2935790e5dbdbe",
        "id": "r2hJmh96Ibys"
      },
      "source": [
        "<center>\n",
        "<img src=\"https://habrastorage.org/files/fd4/502/43d/fd450243dd604b81b9713213a247aa20.jpg\">\n",
        "    \n",
        "## [mlcourse.ai](mlcourse.ai) – Open Machine Learning Course \n",
        "\n",
        "<center>Author: [Yury Kashnitskiy](http://yorko.github.io) <br>\n",
        "Translated and edited by [Sergey Isaev](https://www.linkedin.com/in/isvforall/), [Artem Trunov](https://www.linkedin.com/in/datamove/), [Anastasia Manokhina](https://www.linkedin.com/in/anastasiamanokhina/), and [Yuanyuan Pao](https://www.linkedin.com/in/yuanyuanpao/) <br>All content is distributed under the [Creative Commons CC BY-NC-SA 4.0](https://creativecommons.org/licenses/by-nc-sa/4.0/) license."
      ]
    },
    {
      "cell_type": "markdown",
      "metadata": {
        "_uuid": "998fc5f76227ab1df9460a7b05c508304b14b3a6",
        "id": "P9OS1kW4Ibyt"
      },
      "source": [
        "\n",
        "# <center>  Exploratory data analysis with Pandas\n"
      ]
    },
    {
      "cell_type": "markdown",
      "metadata": {
        "_uuid": "89ef93231815456f4e0bc5dcc00b094aee800993",
        "id": "xQVIFzZ8Ibyu"
      },
      "source": [
        "**In this task you should use Pandas to answer a few questions about the [Adult](https://archive.ics.uci.edu/ml/datasets/Adult) dataset.** \n",
        "\n",
        "Choose the answers in the [web-form](https://docs.google.com/forms/d/1uY7MpI2trKx6FLWZte0uVh3ULV4Cm_tDud0VDFGCOKg). \n",
        "\n",
        "This is a demo version of an assignment, so by submitting the form, you'll see a link to the solution .ipynb file."
      ]
    },
    {
      "cell_type": "markdown",
      "metadata": {
        "_uuid": "c322301ac858c748f8f80e63cf6f734fc70dde30",
        "id": "38-ojaAxIbyv"
      },
      "source": [
        "Unique values of all features (for more information, please see the links above):\n",
        "- `age`: continuous.\n",
        "- `workclass`: Private, Self-emp-not-inc, Self-emp-inc, Federal-gov, Local-gov, State-gov, Without-pay, Never-worked.\n",
        "- `fnlwgt`: continuous.\n",
        "- `education`: Bachelors, Some-college, 11th, HS-grad, Prof-school, Assoc-acdm, Assoc-voc, 9th, 7th-8th, 12th, Masters, 1st-4th, 10th, Doctorate, 5th-6th, Preschool.\n",
        "- `education-num`: continuous.\n",
        "- `marital-status`: Married-civ-spouse, Divorced, Never-married, Separated, Widowed, Married-spouse-absent, Married-AF-spouse.\n",
        "- `occupation`: Tech-support, Craft-repair, Other-service, Sales, Exec-managerial, Prof-specialty, Handlers-cleaners, Machine-op-inspct, Adm-clerical, Farming-fishing, Transport-moving, Priv-house-serv, Protective-serv, Armed-Forces.\n",
        "- `relationship`: Wife, Own-child, Husband, Not-in-family, Other-relative, Unmarried.\n",
        "- `race`: White, Asian-Pac-Islander, Amer-Indian-Eskimo, Other, Black.\n",
        "- `sex`: Female, Male.\n",
        "- `capital-gain`: continuous.\n",
        "- `capital-loss`: continuous.\n",
        "- `hours-per-week`: continuous.\n",
        "- `native-country`: United-States, Cambodia, England, Puerto-Rico, Canada, Germany, Outlying-US(Guam-USVI-etc), India, Japan, Greece, South, China, Cuba, Iran, Honduras, Philippines, Italy, Poland, Jamaica, Vietnam, Mexico, Portugal, Ireland, France, Dominican-Republic, Laos, Ecuador, Taiwan, Haiti, Columbia, Hungary, Guatemala, Nicaragua, Scotland, Thailand, Yugoslavia, El-Salvador, Trinadad&Tobago, Peru, Hong, Holand-Netherlands.   \n",
        "- `salary`: >50K,<=50K"
      ]
    },
    {
      "cell_type": "code",
      "metadata": {
        "ExecuteTime": {
          "end_time": "2021-08-24T17:03:55.601313Z",
          "start_time": "2021-08-24T17:03:55.322078Z"
        },
        "_uuid": "d3eb2411e23b7db11e4cbbb498a42752442a6f4c",
        "id": "YzlO8DhOIbyw"
      },
      "source": [
        "import pandas as pd"
      ],
      "execution_count": null,
      "outputs": []
    },
    {
      "cell_type": "code",
      "metadata": {
        "ExecuteTime": {
          "end_time": "2021-08-24T17:03:57.112580Z",
          "start_time": "2021-08-24T17:03:56.190878Z"
        },
        "_uuid": "c5119d1b8151029b4ff57735c4279b795ae492a2",
        "id": "45rbCeq7Iby2"
      },
      "source": [
        "url = 'https://raw.githubusercontent.com/Yorko/mlcourse.ai/master/data/adult.data.csv'\n",
        "data = pd.read_csv(url)\n",
        "data.head()"
      ],
      "execution_count": null,
      "outputs": []
    },
    {
      "cell_type": "markdown",
      "metadata": {
        "_uuid": "6b19853f936853d40971b56f4d298ab55ee78cac",
        "id": "x3xmEcBQIby5"
      },
      "source": [
        "**1. How many men and women (*sex* feature) are represented in this dataset?** "
      ]
    },
    {
      "cell_type": "code",
      "metadata": {
        "_uuid": "d32cafcbe966dbdfa40c3017d16d6f8c96bfb3e2",
        "id": "1nvsg84KIby6"
      },
      "source": [
        "# You code here"
      ],
      "execution_count": null,
      "outputs": []
    },
    {
      "cell_type": "markdown",
      "metadata": {
        "_uuid": "4748793234a5d325ea60d13331ecf93e29774523",
        "id": "i3LvKSfEIby8"
      },
      "source": [
        "**2. What is the average age (*age* feature) of women?**"
      ]
    },
    {
      "cell_type": "code",
      "metadata": {
        "_uuid": "64f60d928855107d8980875656dcdf3587d91646",
        "id": "NcuY_rwkIby9"
      },
      "source": [
        "# You code here"
      ],
      "execution_count": null,
      "outputs": []
    },
    {
      "cell_type": "markdown",
      "metadata": {
        "_uuid": "80e87c421c348067e88769c64e554206c51727d1",
        "id": "u3fTYtXsIby_"
      },
      "source": [
        "**3. What is the percentage of German citizens (*native-country* feature)?**"
      ]
    },
    {
      "cell_type": "code",
      "metadata": {
        "_uuid": "ca9807509692638bd945671ed7d8b4a5ad1f3626",
        "id": "AZ5nsUYHIby_"
      },
      "source": [
        "# You code here"
      ],
      "execution_count": null,
      "outputs": []
    },
    {
      "cell_type": "markdown",
      "metadata": {
        "_uuid": "be9911cf525df4fca2c1d14b8720bc8a82f462e7",
        "id": "f-j0CdnIIbzC"
      },
      "source": [
        "**4-5. What are the mean and standard deviation of age for those who earn more than 50K per year (*salary* feature) and those who earn less than 50K per year?**"
      ]
    },
    {
      "cell_type": "code",
      "metadata": {
        "_uuid": "97948f0115f949913d211627151b5605bcd204fd",
        "id": "o0ZFfFj2IbzC"
      },
      "source": [
        "# You code here"
      ],
      "execution_count": null,
      "outputs": []
    },
    {
      "cell_type": "markdown",
      "metadata": {
        "_uuid": "180c3fe6f8b250b877c1d86866067b80acabdb64",
        "id": "M0KiaC9hIbzE"
      },
      "source": [
        "**6. Is it true that people who earn more than 50K have at least high school education? (*education = HS-grad, Some-College, Bachelors, Prof-school, Assoc-acdm, Assoc-voc, Masters or *Doctorate*)**"
      ]
    },
    {
      "cell_type": "code",
      "metadata": {
        "_uuid": "58f38ebfa2b0e1418a6a1a680d0743697f9876a2",
        "id": "k-GQi-dzIbzE"
      },
      "source": [
        "# You code here"
      ],
      "execution_count": null,
      "outputs": []
    },
    {
      "cell_type": "markdown",
      "metadata": {
        "_uuid": "87d6bc9ec1c230e66416ce94533ea250368009cc",
        "id": "6IFdMoE_IbzG"
      },
      "source": [
        "**7. Display age statistics for each race (*race* feature) and each gender (*sex* feature). Use *groupby()* and *describe()*. Find the maximum age of men of *Amer-Indian-Eskimo* race.**"
      ]
    },
    {
      "cell_type": "code",
      "metadata": {
        "_uuid": "a4567b72200b583f7f2ee1583405d636c12169db",
        "id": "MeUwap76IbzG"
      },
      "source": [
        "# You code here"
      ],
      "execution_count": null,
      "outputs": []
    },
    {
      "cell_type": "markdown",
      "metadata": {
        "_uuid": "19411d604b0d4337a4a048a2f0e898541f39ab76",
        "id": "f7nR5ja-IbzI"
      },
      "source": [
        "**8. Among whom is the proportion of those who earn a lot (>50K) greater: married or single men (*marital-status* feature)? Consider as married those who have a *marital-status* starting with *Married* (Married-civ-spouse, Married-spouse-absent or Married-AF-spouse), the rest are considered bachelors.**"
      ]
    },
    {
      "cell_type": "code",
      "metadata": {
        "_uuid": "5bb3a8524fcbd794707075ccf6aaf8dd0f30a3dd",
        "id": "xnlJO14AIbzI"
      },
      "source": [
        "# You code here"
      ],
      "execution_count": null,
      "outputs": []
    },
    {
      "cell_type": "markdown",
      "metadata": {
        "_uuid": "34f2076e7d331b95a23b990372809b709d2c8183",
        "id": "nNE6o5fRIbzK"
      },
      "source": [
        "**9. What is the maximum number of hours a person works per week (*hours-per-week* feature)? How many people work such a number of hours, and what is the percentage of those who earn a lot (>50K) among them?**"
      ]
    },
    {
      "cell_type": "code",
      "metadata": {
        "_uuid": "3571468172fc4bcf34e10b3d6ab358d4e41f7ef4",
        "id": "-UJlyCduIbzL"
      },
      "source": [
        "# You code here"
      ],
      "execution_count": null,
      "outputs": []
    },
    {
      "cell_type": "markdown",
      "metadata": {
        "_uuid": "d539d4d137fac1c5ea25bc516188eb657d67e9b4",
        "id": "kNLkyikhIbzM"
      },
      "source": [
        "**10. Count the average time of work (*hours-per-week*) for those who earn a little and a lot (*salary*) for each country (*native-country*). What will these be for Japan?**"
      ]
    },
    {
      "cell_type": "code",
      "metadata": {
        "_uuid": "75a93411f1e3b519afcc27c026aaa0c67eb526e9",
        "id": "CpsqguxlIbzN"
      },
      "source": [
        "# You code here"
      ],
      "execution_count": null,
      "outputs": []
    }
  ]
}