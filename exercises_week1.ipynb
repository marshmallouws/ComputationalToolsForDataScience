{
  "nbformat": 4,
  "nbformat_minor": 5,
  "metadata": {
    "kernelspec": {
      "name": "python3",
      "display_name": "Python 3.9.7 64-bit"
    },
    "language_info": {
      "codemirror_mode": {
        "name": "ipython",
        "version": 3
      },
      "file_extension": ".py",
      "mimetype": "text/x-python",
      "name": "python",
      "nbconvert_exporter": "python",
      "pygments_lexer": "ipython3",
      "version": "3.9.7"
    },
    "toc": {
      "base_numbering": 1,
      "nav_menu": {},
      "number_sections": true,
      "sideBar": true,
      "skip_h1_title": false,
      "title_cell": "Table of Contents",
      "title_sidebar": "Contents",
      "toc_cell": false,
      "toc_position": {},
      "toc_section_display": true,
      "toc_window_display": false
    },
    "colab": {
      "name": "exercises_week1.ipynb",
      "provenance": [],
      "collapsed_sections": []
    },
    "interpreter": {
      "hash": "f55de7cfc8c493802b9f9879233bb1ea14435c94458bd89a0206f6fd6fbc5770"
    }
  },
  "cells": [
    {
      "cell_type": "markdown",
      "source": [
        "# 02807 - Exercises Week 1\n",
        "\n",
        "## Learning objectives:\n",
        "\n",
        "* Be able to run jupyter cells in your own local python/jupyter environment.\n",
        "* Understand the difference between IPython and Jupyter notebooks.\n",
        "* Distinguish `!`, `%` from regular python commands\n",
        "* Identify concerns about reproducibility of data experiments.\n",
        "\n",
        "If you struggle with setting up the environment, alternatively play around with this notebook via Colab. It is assumed that you've brushed up on `python` via the readings listed for Week 1.\n",
        "\n",
        "## Readings\n",
        "\n",
        "### **Colab and Jupyter**:\n",
        "\n",
        "* Examine the menu item `Help > Keyboard Shortcuts` (Colab: `Tools > Keyboard Shortcuts`) and understand the difference between edit mode (focused cell) and command mode (unfocused cell). \n",
        "    * Identify and use the shortcuts `\"Run cell, select below\"` (Colab: `\"Run cell and select next cell\"`) and `\"run selected cells\"` (Colab: `\"Run the focused cell\"`)\n",
        "    * You should get comfortable switching in and out command and edit mode, running cells (staying or skipping to next), and adding cells using keyboard shortcuts, as this will greatly improve your velocity.\n",
        "* [Welcome to Colaboratory](https://colab.research.google.com/notebooks/intro.ipynb#)"
      ],
      "metadata": {
        "id": "b1da600d"
      }
    },
    {
      "cell_type": "markdown",
      "source": [
        "# Environment information"
      ],
      "metadata": {
        "id": "a9b131b1"
      }
    },
    {
      "cell_type": "code",
      "execution_count": 1,
      "source": [
        "!pip install watermark"
      ],
      "outputs": [
        {
          "output_type": "stream",
          "name": "stdout",
          "text": [
            "Requirement already satisfied: watermark in c:\\users\\e_hle\\appdata\\local\\programs\\python\\python39\\lib\\site-packages (2.2.0)\n",
            "Requirement already satisfied: ipython in c:\\users\\e_hle\\appdata\\local\\programs\\python\\python39\\lib\\site-packages (from watermark) (7.27.0)\n",
            "Requirement already satisfied: prompt-toolkit!=3.0.0,!=3.0.1,<3.1.0,>=2.0.0 in c:\\users\\e_hle\\appdata\\local\\programs\\python\\python39\\lib\\site-packages (from ipython->watermark) (3.0.20)\n",
            "Requirement already satisfied: pygments in c:\\users\\e_hle\\appdata\\local\\programs\\python\\python39\\lib\\site-packages (from ipython->watermark) (2.10.0)\n",
            "Requirement already satisfied: colorama in c:\\users\\e_hle\\appdata\\local\\programs\\python\\python39\\lib\\site-packages (from ipython->watermark) (0.4.4)\n",
            "Requirement already satisfied: decorator in c:\\users\\e_hle\\appdata\\local\\programs\\python\\python39\\lib\\site-packages (from ipython->watermark) (5.1.0)\n",
            "Requirement already satisfied: matplotlib-inline in c:\\users\\e_hle\\appdata\\local\\programs\\python\\python39\\lib\\site-packages (from ipython->watermark) (0.1.3)\n",
            "Requirement already satisfied: setuptools>=18.5 in c:\\users\\e_hle\\appdata\\local\\programs\\python\\python39\\lib\\site-packages (from ipython->watermark) (57.4.0)\n",
            "Requirement already satisfied: jedi>=0.16 in c:\\users\\e_hle\\appdata\\local\\programs\\python\\python39\\lib\\site-packages (from ipython->watermark) (0.18.0)\n",
            "Requirement already satisfied: traitlets>=4.2 in c:\\users\\e_hle\\appdata\\local\\programs\\python\\python39\\lib\\site-packages (from ipython->watermark) (5.1.0)\n",
            "Requirement already satisfied: pickleshare in c:\\users\\e_hle\\appdata\\local\\programs\\python\\python39\\lib\\site-packages (from ipython->watermark) (0.7.5)\n",
            "Requirement already satisfied: backcall in c:\\users\\e_hle\\appdata\\local\\programs\\python\\python39\\lib\\site-packages (from ipython->watermark) (0.2.0)\n",
            "Requirement already satisfied: parso<0.9.0,>=0.8.0 in c:\\users\\e_hle\\appdata\\local\\programs\\python\\python39\\lib\\site-packages (from jedi>=0.16->ipython->watermark) (0.8.2)\n",
            "Requirement already satisfied: wcwidth in c:\\users\\e_hle\\appdata\\local\\programs\\python\\python39\\lib\\site-packages (from prompt-toolkit!=3.0.0,!=3.0.1,<3.1.0,>=2.0.0->ipython->watermark) (0.2.5)\n"
          ]
        },
        {
          "output_type": "stream",
          "name": "stderr",
          "text": [
            "WARNING: You are using pip version 21.2.3; however, version 21.2.4 is available.\n",
            "You should consider upgrading via the 'C:\\Users\\E_hle\\AppData\\Local\\Programs\\Python\\Python39\\python.exe -m pip install --upgrade pip' command.\n"
          ]
        }
      ],
      "metadata": {
        "ExecuteTime": {
          "end_time": "2021-08-25T09:55:14.518583Z",
          "start_time": "2021-08-25T09:55:13.777088Z"
        },
        "id": "3851c22d"
      }
    },
    {
      "cell_type": "code",
      "execution_count": 2,
      "source": [
        "%load_ext watermark"
      ],
      "outputs": [],
      "metadata": {
        "ExecuteTime": {
          "end_time": "2021-08-25T09:55:14.535738Z",
          "start_time": "2021-08-25T09:55:14.520225Z"
        },
        "id": "30c9b1d0"
      }
    },
    {
      "cell_type": "code",
      "execution_count": 3,
      "source": [
        "%watermark -iv -v -m"
      ],
      "outputs": [
        {
          "output_type": "stream",
          "name": "stdout",
          "text": [
            "Python implementation: CPython\n",
            "Python version       : 3.9.7\n",
            "IPython version      : 7.27.0\n",
            "\n",
            "Compiler    : MSC v.1929 64 bit (AMD64)\n",
            "OS          : Windows\n",
            "Release     : 10\n",
            "Machine     : AMD64\n",
            "Processor   : Intel64 Family 6 Model 158 Stepping 9, GenuineIntel\n",
            "CPU cores   : 8\n",
            "Architecture: 64bit\n",
            "\n",
            "sys: 3.9.7 (tags/v3.9.7:1016ef3, Aug 30 2021, 20:19:38) [MSC v.1929 64 bit (AMD64)]\n",
            "\n"
          ]
        }
      ],
      "metadata": {
        "ExecuteTime": {
          "end_time": "2021-08-25T09:55:14.559739Z",
          "start_time": "2021-08-25T09:55:14.536845Z"
        },
        "id": "164f96bd"
      }
    },
    {
      "cell_type": "code",
      "execution_count": 4,
      "source": [
        "!python --version"
      ],
      "outputs": [
        {
          "output_type": "stream",
          "name": "stdout",
          "text": [
            "Python 3.9.7\n"
          ]
        }
      ],
      "metadata": {
        "ExecuteTime": {
          "end_time": "2021-08-25T09:55:14.677208Z",
          "start_time": "2021-08-25T09:55:14.560612Z"
        },
        "id": "fde66d74"
      }
    },
    {
      "cell_type": "code",
      "execution_count": 5,
      "source": [
        "!pip list"
      ],
      "outputs": [
        {
          "output_type": "stream",
          "name": "stdout",
          "text": [
            "Package           Version\n",
            "----------------- -------\n",
            "backcall          0.2.0\n",
            "colorama          0.4.4\n",
            "debugpy           1.4.3\n",
            "decorator         5.1.0\n",
            "entrypoints       0.3\n",
            "ipykernel         6.4.1\n",
            "ipython           7.27.0\n",
            "ipython-genutils  0.2.0\n",
            "jedi              0.18.0\n",
            "jupyter-client    7.0.2\n",
            "jupyter-core      4.7.1\n",
            "matplotlib-inline 0.1.3\n",
            "nest-asyncio      1.5.1\n",
            "numpy             1.21.2\n",
            "pandas            1.3.3\n",
            "parso             0.8.2\n",
            "pickleshare       0.7.5\n",
            "pip               21.2.3\n",
            "prompt-toolkit    3.0.20\n",
            "Pygments          2.10.0\n",
            "python-dateutil   2.8.2\n",
            "pytz              2021.1\n",
            "pywin32           301\n",
            "pyzmq             22.2.1\n",
            "setuptools        57.4.0\n",
            "six               1.16.0\n",
            "tornado           6.1\n",
            "traitlets         5.1.0\n",
            "watermark         2.2.0\n",
            "wcwidth           0.2.5\n"
          ]
        },
        {
          "output_type": "stream",
          "name": "stderr",
          "text": [
            "WARNING: You are using pip version 21.2.3; however, version 21.2.4 is available.\n",
            "You should consider upgrading via the 'C:\\Users\\E_hle\\AppData\\Local\\Programs\\Python\\Python39\\python.exe -m pip install --upgrade pip' command.\n"
          ]
        }
      ],
      "metadata": {
        "ExecuteTime": {
          "end_time": "2021-08-25T09:55:15.039361Z",
          "start_time": "2021-08-25T09:55:14.678975Z"
        },
        "scrolled": true,
        "id": "59574649"
      }
    },
    {
      "cell_type": "code",
      "execution_count": 6,
      "source": [
        "import sys\r\n",
        "\r\n",
        "print(sys.prefix)\r\n",
        "print(sys.exec_prefix)\r\n",
        "print(sys.executable)"
      ],
      "outputs": [
        {
          "output_type": "stream",
          "name": "stdout",
          "text": [
            "C:\\Users\\E_hle\\AppData\\Local\\Programs\\Python\\Python39\n",
            "C:\\Users\\E_hle\\AppData\\Local\\Programs\\Python\\Python39\n",
            "C:\\Users\\E_hle\\AppData\\Local\\Programs\\Python\\Python39\\python.exe\n"
          ]
        }
      ],
      "metadata": {
        "ExecuteTime": {
          "end_time": "2021-08-25T10:10:56.543391Z",
          "start_time": "2021-08-25T10:10:56.540340Z"
        },
        "id": "4561375c"
      }
    },
    {
      "cell_type": "code",
      "execution_count": 7,
      "source": [
        "# IPython automatically displays the final results of a cell, in this case a tuple of strings\r\n",
        "sys.prefix, sys.exec_prefix, sys.executable"
      ],
      "outputs": [
        {
          "output_type": "execute_result",
          "data": {
            "text/plain": [
              "('C:\\\\Users\\\\E_hle\\\\AppData\\\\Local\\\\Programs\\\\Python\\\\Python39',\n",
              " 'C:\\\\Users\\\\E_hle\\\\AppData\\\\Local\\\\Programs\\\\Python\\\\Python39',\n",
              " 'C:\\\\Users\\\\E_hle\\\\AppData\\\\Local\\\\Programs\\\\Python\\\\Python39\\\\python.exe')"
            ]
          },
          "metadata": {},
          "execution_count": 7
        }
      ],
      "metadata": {
        "ExecuteTime": {
          "end_time": "2021-08-25T10:11:04.645799Z",
          "start_time": "2021-08-25T10:11:04.641721Z"
        },
        "id": "a0919bd0"
      }
    },
    {
      "cell_type": "markdown",
      "source": [
        "## Q1: If the output of these commands differ between to group members, what issues might arise with regards to reproducibility of their data experiments?"
      ],
      "metadata": {
        "ExecuteTime": {
          "end_time": "2021-08-15T18:54:15.471990Z",
          "start_time": "2021-08-15T18:54:15.452608Z"
        },
        "id": "184a6974"
      }
    },
    {
      "cell_type": "markdown",
      "source": [
        "*Your answer here*"
      ],
      "metadata": {
        "id": "75b40dae"
      }
    },
    {
      "cell_type": "markdown",
      "source": [
        "## Q2: What steps should you take to ensure that a group of students use inter-operable notebooks?"
      ],
      "metadata": {
        "id": "0aa30dd3"
      }
    },
    {
      "cell_type": "markdown",
      "source": [
        "*Your answer here*"
      ],
      "metadata": {
        "ExecuteTime": {
          "end_time": "2021-08-25T09:54:26.022313Z",
          "start_time": "2021-08-25T09:54:26.018996Z"
        },
        "id": "77747860"
      }
    }
  ]
}